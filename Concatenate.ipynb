{
  "nbformat": 4,
  "nbformat_minor": 0,
  "metadata": {
    "colab": {
      "name": "Concatenate.ipynb",
      "provenance": [],
      "collapsed_sections": [],
      "authorship_tag": "ABX9TyMVij0BkSIDnrkSuqMUzvwu",
      "include_colab_link": true
    },
    "kernelspec": {
      "name": "python3",
      "display_name": "Python 3"
    },
    "language_info": {
      "name": "python"
    }
  },
  "cells": [
    {
      "cell_type": "markdown",
      "metadata": {
        "id": "view-in-github",
        "colab_type": "text"
      },
      "source": [
        "<a href=\"https://colab.research.google.com/github/aditya77777/ARS_Cheetah.V2/blob/master/Concatenate.ipynb\" target=\"_parent\"><img src=\"https://colab.research.google.com/assets/colab-badge.svg\" alt=\"Open In Colab\"/></a>"
      ]
    },
    {
      "cell_type": "code",
      "metadata": {
        "id": "XgB9k2FNjOq_"
      },
      "source": [
        "import pandas as pd\n",
        "import numpy as np\n"
      ],
      "execution_count": 68,
      "outputs": []
    },
    {
      "cell_type": "code",
      "metadata": {
        "id": "Kag7PgCqljOf"
      },
      "source": [
        "df1 = pd.read_excel('SampleY750-30-h264-180s.xlsx') //BITRATE SHEET\n",
        "df2 = pd.read_excel('SampleY750-mem-cpu-180.xlsx')  //CPU AND MEMORY SHEET\n",
        "\n"
      ],
      "execution_count": 69,
      "outputs": []
    },
    {
      "cell_type": "code",
      "metadata": {
        "id": "X7iv7p3DlpF9"
      },
      "source": [
        "X = df1.iloc[1, :].values\n",
        "Y = df2.iloc[1, :].values"
      ],
      "execution_count": 75,
      "outputs": []
    },
    {
      "cell_type": "code",
      "metadata": {
        "colab": {
          "base_uri": "https://localhost:8080/"
        },
        "id": "VooxnzSpnQZw",
        "outputId": "7692cee4-4423-47b7-c298-dcfb848893b4"
      },
      "source": [
        "indexX = df1.index\n",
        "number_of_rowsX = len(indexX)\n",
        "print(number_of_rowsX)\n",
        "indexY = df2.index\n",
        "number_of_rowsY = len(indexY)\n",
        "print(number_of_rowsY)\n",
        "rage = int(number_of_rowsX/number_of_rowsY)\n",
        "print (rage)"
      ],
      "execution_count": 76,
      "outputs": [
        {
          "output_type": "stream",
          "text": [
            "4922\n",
            "137\n",
            "35\n"
          ],
          "name": "stdout"
        }
      ]
    },
    {
      "cell_type": "code",
      "metadata": {
        "colab": {
          "base_uri": "https://localhost:8080/"
        },
        "id": "dIV10BGfqy_v",
        "outputId": "0a2fa7ef-3e88-4182-d300-f07623934784"
      },
      "source": [
        "k = np.hstack((df1.iloc[1, :].values,df2.iloc[1, :].values))\n",
        "arr = np.array([1, 2, 3, 4, 5,6, 7,8,9,10])\n",
        "o = np.vstack((arr,k))\n",
        "for t in range(number_of_rowsY-1):\n",
        "  for i in range(rage):\n",
        "    k = np.hstack((df1.iloc[i+1, :].values,df2.iloc[t+1, :].values))\n",
        "    o = np.vstack((o,k))\n",
        "\n",
        "df = pd.DataFrame(o, columns = ['time','index','bitrate','bufferlength','throughput','actualBitrate','height','width','MEM','CPU'])\n",
        "print(df)"
      ],
      "execution_count": 77,
      "outputs": [
        {
          "output_type": "stream",
          "text": [
            "       time  index  bitrate  bufferlength  ...  height  width   MEM    CPU\n",
            "0     1.000    2.0      3.0          4.00  ...     7.0    8.0   9.0   10.0\n",
            "1     1.553    1.0    750.0          0.00  ...   360.0  640.0  16.1  105.6\n",
            "2     1.553    1.0    750.0          0.00  ...   360.0  640.0  16.1  105.6\n",
            "3     1.660    1.0    750.0          2.00  ...   360.0  640.0  16.1  105.6\n",
            "4     1.733    1.0    750.0          2.00  ...   360.0  640.0  16.1  105.6\n",
            "...     ...    ...      ...           ...  ...     ...    ...   ...    ...\n",
            "4757  2.704    1.0    750.0         12.96  ...   360.0  640.0   5.0   75.0\n",
            "4758  2.751    1.0    750.0         12.89  ...   360.0  640.0   5.0   75.0\n",
            "4759  2.785    1.0    750.0         12.89  ...   360.0  640.0   5.0   75.0\n",
            "4760  2.811    1.0    750.0         14.81  ...   360.0  640.0   5.0   75.0\n",
            "4761  2.846    1.0    750.0         14.81  ...   360.0  640.0   5.0   75.0\n",
            "\n",
            "[4762 rows x 10 columns]\n"
          ],
          "name": "stdout"
        }
      ]
    },
    {
      "cell_type": "code",
      "metadata": {
        "colab": {
          "base_uri": "https://localhost:8080/"
        },
        "id": "O3rGocLJwiBV",
        "outputId": "145414e3-b0cf-4ab2-92f8-22543a1dca62"
      },
      "source": [
        "indexfinal = df.index\n",
        "number_of_rowsfinal = len(indexfinal)\n",
        "print(number_of_rowsfinal)"
      ],
      "execution_count": 78,
      "outputs": [
        {
          "output_type": "stream",
          "text": [
            "4762\n"
          ],
          "name": "stdout"
        }
      ]
    },
    {
      "cell_type": "code",
      "metadata": {
        "id": "udbWPP2gxDDU"
      },
      "source": [
        "df.to_csv (r'C:\\Users\\Aditya Saxena\\OneDrive\\Desktop\\DashJs\\testing.csv', index = False, header=True)"
      ],
      "execution_count": 79,
      "outputs": []
    },
    {
      "cell_type": "code",
      "metadata": {
        "colab": {
          "base_uri": "https://localhost:8080/"
        },
        "id": "xDeKD-O91_DN",
        "outputId": "bd37f89a-b19b-453d-86fc-bfa46e3b35bd"
      },
      "source": [
        "from google.colab import drive\n",
        "drive.mount('drive')"
      ],
      "execution_count": 80,
      "outputs": [
        {
          "output_type": "stream",
          "text": [
            "Mounted at drive\n"
          ],
          "name": "stdout"
        }
      ]
    },
    {
      "cell_type": "code",
      "metadata": {
        "id": "aBUUOkl72aq0"
      },
      "source": [
        "df.to_csv('drive/My Drive/DashJs/test.csv')"
      ],
      "execution_count": 83,
      "outputs": []
    },
    {
      "cell_type": "code",
      "metadata": {
        "id": "0_d6ivQ43BxV"
      },
      "source": [
        ""
      ],
      "execution_count": null,
      "outputs": []
    }
  ]
}